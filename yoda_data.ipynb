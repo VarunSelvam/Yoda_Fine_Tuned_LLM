{
 "cells": [
  {
   "cell_type": "markdown",
   "id": "7935c907",
   "metadata": {},
   "source": [
    "# Yoda Data"
   ]
  },
  {
   "cell_type": "markdown",
   "id": "e31d6c87",
   "metadata": {},
   "source": [
    "## Import Libraries"
   ]
  },
  {
   "cell_type": "code",
   "execution_count": 1,
   "id": "2a714c10",
   "metadata": {},
   "outputs": [],
   "source": [
    "import pandas as pd\n",
    "import numpy as np\n",
    "import json\n",
    "import re\n",
    "import chardet"
   ]
  },
  {
   "cell_type": "markdown",
   "id": "4c89f070",
   "metadata": {},
   "source": [
    "## Datasets"
   ]
  },
  {
   "cell_type": "markdown",
   "id": "adf01a18",
   "metadata": {},
   "source": [
    "Ep 4-6 Dataset Link: \n",
    "https://www.kaggle.com/datasets/xvivancos/star-wars-movie-scripts?resource=download\n",
    "\n",
    "Ep 1-3 Dataset Link: \n",
    "https://www.kaggle.com/datasets/oscaryezfeijo/star-wars-scripts-database"
   ]
  },
  {
   "cell_type": "markdown",
   "id": "d31c00a4",
   "metadata": {},
   "source": [
    "### Episodes 4-6"
   ]
  },
  {
   "cell_type": "code",
   "execution_count": 2,
   "id": "4fdf7a5b",
   "metadata": {},
   "outputs": [],
   "source": [
    "ep_4 = pd.read_table('SW_EpisodeIV.txt', header=None, names=['raw'])\n",
    "ep_5 = pd.read_table('SW_EpisodeV.txt', header=None, names=['raw'])\n",
    "ep_6 = pd.read_table('SW_EpisodeVI.txt', header=None, names=['raw'])\n"
   ]
  },
  {
   "cell_type": "code",
   "execution_count": null,
   "id": "76d6f901",
   "metadata": {},
   "outputs": [],
   "source": [
    "# Function to extract character and dialogue\n",
    "# Updated function to handle hyphens/apostrophes in names\n",
    "def extract_character_dialogue(text):\n",
    "    match = re.match(r'(\\d+\\s+)?\\\"([A-Z0-9\\'\\- ]+)\\\"\\s+\\\"(.+)\\\"', str(text))\n",
    "    if match:\n",
    "        character = match.group(2).strip()\n",
    "        dialogue = match.group(3).strip()\n",
    "        return pd.Series([character, dialogue])\n",
    "    else:\n",
    "        return pd.Series([None, None])"
   ]
  },
  {
   "cell_type": "markdown",
   "id": "a027dabe",
   "metadata": {},
   "source": [
    "We can run this function on the rest of the episodes now."
   ]
  },
  {
   "cell_type": "code",
   "execution_count": 12,
   "id": "508cfa14",
   "metadata": {},
   "outputs": [
    {
     "name": "stdout",
     "output_type": "stream",
     "text": [
      "Length of ep_4: 1011\n",
      "Length of ep_4_clean: 1010\n",
      "  character                                           dialogue\n",
      "0  THREEPIO  Did you hear that?  They've shut down the main...\n",
      "1  THREEPIO                                      We're doomed!\n",
      "2  THREEPIO  There'll be no escape for the Princess this time.\n",
      "3  THREEPIO                                       What's that?\n",
      "4  THREEPIO  I should have known better than to trust the l...\n",
      "length of ep_5: 840\n",
      "length of ep_5_clean: 839\n",
      "length of ep_6: 675\n",
      "length of ep_6_clean: 666\n"
     ]
    }
   ],
   "source": [
    "# Apply the function\n",
    "ep_4[['character', 'dialogue']] = ep_4['raw'].apply(extract_character_dialogue)\n",
    "print(\"Length of ep_4:\",len(ep_4))\n",
    "\n",
    "# Drop any rows that didn’t match the regex pattern\n",
    "ep_4_clean = ep_4.dropna(subset=['character', 'dialogue']).reset_index(drop=True)\n",
    "print(\"Length of ep_4_clean:\",len(ep_4_clean))\n",
    "\n",
    "# Preview\n",
    "print(ep_4_clean[['character', 'dialogue']].head())\n",
    "\n",
    "# Apply the function\n",
    "ep_5[['character', 'dialogue']] = ep_5['raw'].apply(extract_character_dialogue)\n",
    "print(f'length of ep_5: {len(ep_5)}')\n",
    "\n",
    "# Drop any rows that didn’t match the regex pattern\n",
    "ep_5_clean = ep_5.dropna(subset=['character', 'dialogue']).reset_index(drop=True)\n",
    "print(f'length of ep_5_clean: {len(ep_5_clean)}')\n",
    "\n",
    "# Apply the function\n",
    "ep_6[['character', 'dialogue']] = ep_6['raw'].apply(extract_character_dialogue)\n",
    "print(f'length of ep_6: {len(ep_6)}')\n",
    "\n",
    "# Drop any rows that didn’t match the regex pattern\n",
    "ep_6_clean = ep_6.dropna(subset=['character', 'dialogue']).reset_index(drop=True)\n",
    "print(f'length of ep_6_clean: {len(ep_6_clean)}')\n"
   ]
  },
  {
   "cell_type": "markdown",
   "id": "e400f238",
   "metadata": {},
   "source": [
    "### Episodes 1-3"
   ]
  },
  {
   "cell_type": "markdown",
   "id": "a819d299",
   "metadata": {},
   "source": [
    "This function will convert the code into a text file."
   ]
  },
  {
   "cell_type": "code",
   "execution_count": 2,
   "id": "87ed6eec",
   "metadata": {},
   "outputs": [],
   "source": [
    "import pandas as pd\n",
    "import re\n",
    "\n",
    "def parse_dialogue_file(file_path):\n",
    "    \"\"\"\n",
    "    Parse a dialogue file where each line has format:\n",
    "    CHARACTER_NAME dialogue text here\n",
    "    \n",
    "    Returns a pandas DataFrame with 'character' and 'dialogue' columns.\n",
    "    \"\"\"\n",
    "    \n",
    "    characters = []\n",
    "    dialogues = []\n",
    "    \n",
    "    try:\n",
    "        with open(file_path, 'r', encoding='utf-8') as file:\n",
    "            lines = file.readlines()\n",
    "    except UnicodeDecodeError:\n",
    "        with open(file_path, 'r', encoding='latin-1') as file:\n",
    "            lines = file.readlines()\n",
    "    \n",
    "    for line in lines:\n",
    "        line = line.strip()\n",
    "        \n",
    "        # Skip empty lines\n",
    "        if not line:\n",
    "            continue\n",
    "        \n",
    "        # Look for pattern: CHARACTER_NAME rest of the line\n",
    "        # Character names are typically in ALL CAPS, followed by multiple spaces, then dialogue\n",
    "        # Use a more precise pattern that stops at the first significant space gap\n",
    "        match = re.match(r'^([A-Z]+(?:[\\s\\-\\.][A-Z]+)*)\\s{2,}(.+)', line)\n",
    "        \n",
    "        # If the above doesn't match, try with single space but be more restrictive\n",
    "        if not match:\n",
    "            # This pattern ensures we only capture complete uppercase words as character names\n",
    "            # and stops before any lowercase letters or mixed case\n",
    "            match = re.match(r'^([A-Z]+(?:[\\s\\-\\.][A-Z]+)*)\\s+([a-z].*|[A-Z][a-z].*|\\.\\.\\.|[^A-Z\\s].*)', line)\n",
    "        \n",
    "        if match:\n",
    "            character = match.group(1).strip()\n",
    "            dialogue = match.group(2).strip()\n",
    "            \n",
    "            # Clean up character name (remove extra spaces)\n",
    "            character = re.sub(r'\\s+', ' ', character)\n",
    "            \n",
    "            # Clean up dialogue (remove extra spaces)\n",
    "            dialogue = re.sub(r'\\s+', ' ', dialogue)\n",
    "            \n",
    "            # Only add if we have both character and dialogue\n",
    "            if character and dialogue:\n",
    "                characters.append(character)\n",
    "                dialogues.append(dialogue)\n",
    "    \n",
    "    # Create DataFrame\n",
    "    df = pd.DataFrame({\n",
    "        'character': characters,\n",
    "        'dialogue': dialogues\n",
    "    })\n",
    "    \n",
    "    return df\n",
    "\n",
    "def filter_character_dialogue(df, character_name):\n",
    "    \"\"\"\n",
    "    Filter the DataFrame to show only dialogue from a specific character.\n",
    "    \"\"\"\n",
    "    return df[df['character'].str.contains(character_name, case=False, na=False)]"
   ]
  },
  {
   "cell_type": "code",
   "execution_count": null,
   "id": "32ce819c",
   "metadata": {},
   "outputs": [],
   "source": [
    "# Example usage:\n",
    "# Parse the dialogue file\n",
    "df = parse_dialogue_file(r'C:\\Users\\varun\\Box Sync\\Python\\Python Projects\\Yoda_Agent\\Official Yoda Prequel Dialouge\\Yoda_TPM_Complete.txt')\n",
    "\n",
    "print(\"Full dialogue DataFrame:\")\n",
    "print(df)\n",
    "print(f\"\\nTotal entries: {len(df)}\")\n",
    "print(f\"Unique characters: {df['character'].nunique()}\")\n",
    "print(f\"Characters: {sorted(df['character'].unique())}\")\n",
    "\n",
    "# Filter for Yoda specifically\n",
    "yoda_df = filter_character_dialogue(df, 'YODA')\n",
    "print(\"\\nYoda's dialogue only:\")\n",
    "print(yoda_df)\n",
    "\n",
    "# Save to CSV\n",
    "df.to_csv('TPM_Dialogue_Complete.csv', index=False)\n",
    "# yoda_df.to_csv('yoda_dialogue.csv', index=False)"
   ]
  },
  {
   "cell_type": "markdown",
   "id": "06f6228f",
   "metadata": {},
   "source": [
    "Afterwards, we do some cleaning and convert on our own and convert the text file into a csv file."
   ]
  },
  {
   "cell_type": "code",
   "execution_count": 6,
   "id": "fa6aca1d",
   "metadata": {},
   "outputs": [
    {
     "data": {
      "application/vnd.microsoft.datawrangler.viewer.v0+json": {
       "columns": [
        {
         "name": "index",
         "rawType": "int64",
         "type": "integer"
        },
        {
         "name": "character",
         "rawType": "object",
         "type": "string"
        },
        {
         "name": "dialogue",
         "rawType": "object",
         "type": "string"
        }
       ],
       "ref": "ed912291-034e-465f-9aa9-249caa2792ac",
       "rows": [
        [
         "0",
         "QUI-GON",
         "my only conclusion can be that it was a Sith Lord."
        ],
        [
         "1",
         "MACE WINDU",
         "A Sith Lord?!?"
        ],
        [
         "2",
         "KI-ADI",
         "Impossible! The Sith have been extinct for a millennium."
        ],
        [
         "3",
         "YODA",
         "The very Republic is threatened, if involved the Sith are."
        ],
        [
         "4",
         "MACE WINDU",
         "I do not believe they could have returned without us knowing."
        ]
       ],
       "shape": {
        "columns": 2,
        "rows": 5
       }
      },
      "text/html": [
       "<div>\n",
       "<style scoped>\n",
       "    .dataframe tbody tr th:only-of-type {\n",
       "        vertical-align: middle;\n",
       "    }\n",
       "\n",
       "    .dataframe tbody tr th {\n",
       "        vertical-align: top;\n",
       "    }\n",
       "\n",
       "    .dataframe thead th {\n",
       "        text-align: right;\n",
       "    }\n",
       "</style>\n",
       "<table border=\"1\" class=\"dataframe\">\n",
       "  <thead>\n",
       "    <tr style=\"text-align: right;\">\n",
       "      <th></th>\n",
       "      <th>character</th>\n",
       "      <th>dialogue</th>\n",
       "    </tr>\n",
       "  </thead>\n",
       "  <tbody>\n",
       "    <tr>\n",
       "      <th>0</th>\n",
       "      <td>QUI-GON</td>\n",
       "      <td>my only conclusion can be that it was a Sith L...</td>\n",
       "    </tr>\n",
       "    <tr>\n",
       "      <th>1</th>\n",
       "      <td>MACE WINDU</td>\n",
       "      <td>A Sith Lord?!?</td>\n",
       "    </tr>\n",
       "    <tr>\n",
       "      <th>2</th>\n",
       "      <td>KI-ADI</td>\n",
       "      <td>Impossible! The Sith have been extinct for a m...</td>\n",
       "    </tr>\n",
       "    <tr>\n",
       "      <th>3</th>\n",
       "      <td>YODA</td>\n",
       "      <td>The very Republic is threatened, if involved t...</td>\n",
       "    </tr>\n",
       "    <tr>\n",
       "      <th>4</th>\n",
       "      <td>MACE WINDU</td>\n",
       "      <td>I do not believe they could have returned with...</td>\n",
       "    </tr>\n",
       "  </tbody>\n",
       "</table>\n",
       "</div>"
      ],
      "text/plain": [
       "    character                                           dialogue\n",
       "0     QUI-GON  my only conclusion can be that it was a Sith L...\n",
       "1  MACE WINDU                                     A Sith Lord?!?\n",
       "2      KI-ADI  Impossible! The Sith have been extinct for a m...\n",
       "3        YODA  The very Republic is threatened, if involved t...\n",
       "4  MACE WINDU  I do not believe they could have returned with..."
      ]
     },
     "execution_count": 6,
     "metadata": {},
     "output_type": "execute_result"
    }
   ],
   "source": [
    "TPM_df = pd.read_csv(\"TPM_Dialogue_Complete.csv\")\n",
    "TPM_df.head()"
   ]
  },
  {
   "cell_type": "markdown",
   "id": "c34cb5b2",
   "metadata": {},
   "source": [
    "Convert Episode 2 into a txt file, but first create a new function to handle the accented e in Padme's name."
   ]
  },
  {
   "cell_type": "code",
   "execution_count": 4,
   "id": "8de68bdb",
   "metadata": {},
   "outputs": [
    {
     "name": "stdout",
     "output_type": "stream",
     "text": [
      "Full dialogue DataFrame:\n",
      "      character                                           dialogue\n",
      "0   PALPATINE I  don’t know how much longer I can hold off the ...\n",
      "1    MACE WINDU                            If they do break away -\n",
      "2     PALPATINE                    No! I will not let that happen!\n",
      "3    MACE WINDU  But if they do, you must realize there aren’t ...\n",
      "4     PALPATINE  Master Yoda, do you think it will really come ...\n",
      "..          ...                                                ...\n",
      "80         YODA                            Come on – hurry! Hurry!\n",
      "81         YODA  More battalions to the left. Encircle them we ...\n",
      "82  COUNT DOOKU  Master Yoda. At last we shall know who is the ...\n",
      "83         YODA   Count Dooku. No interest in contests, do I have.\n",
      "84         YODA                   The end for you, Count, this is.\n",
      "\n",
      "[85 rows x 2 columns]\n",
      "\n",
      "Total entries: 85\n",
      "Unique characters: 18\n",
      "Characters: ['BAIL ORGANA', 'CHILDREN', 'COUNT DOOKU', 'JEDI CHILD JACK', 'JEDI CHILD MAY', 'KI-ADI-MUNDI', 'MACE WINDU', 'MACE WINDU A', 'MACE WINDU I', 'MAS AMEDDA', 'OBI-WAN', 'OBI-WAN I', 'PADMÉ', 'PADMÉ I', 'PALPATINE', 'PALPATINE I', 'SENATOR ASK AAK', 'YODA']\n"
     ]
    }
   ],
   "source": [
    "import pandas as pd\n",
    "import re\n",
    "\n",
    "def parse_dialogue_file(file_path):\n",
    "    \"\"\"\n",
    "    Parse a dialogue file where each line has format:\n",
    "    CHARACTER_NAME dialogue text here\n",
    "    \n",
    "    Returns a pandas DataFrame with 'character' and 'dialogue' columns.\n",
    "    \"\"\"\n",
    "    \n",
    "    characters = []\n",
    "    dialogues = []\n",
    "    \n",
    "    try:\n",
    "        with open(file_path, 'r', encoding='utf-8') as file:\n",
    "            lines = file.readlines()\n",
    "    except UnicodeDecodeError:\n",
    "        with open(file_path, 'r', encoding='latin-1') as file:\n",
    "            lines = file.readlines()\n",
    "    \n",
    "    for line in lines:\n",
    "        line = line.strip()\n",
    "        \n",
    "        # Skip empty lines\n",
    "        if not line:\n",
    "            continue\n",
    "        \n",
    "        # Look for pattern: CHARACTER_NAME rest of the line\n",
    "        # Character names are typically in ALL CAPS, followed by multiple spaces, then dialogue\n",
    "        # Include accented characters like É in PADMÉ\n",
    "        # Use a more precise pattern that stops at the first significant space gap\n",
    "        match = re.match(r'^([A-ZÀ-ÿ]+(?:[\\s\\-\\.][ A-ZÀ-ÿ]+)*)\\s{2,}(.+)', line)\n",
    "        \n",
    "        # If the above doesn't match, try with single space but be more restrictive\n",
    "        if not match:\n",
    "            # This pattern ensures we only capture complete uppercase words as character names\n",
    "            # and stops before any lowercase letters or mixed case\n",
    "            match = re.match(r'^([A-ZÀ-ÿ]+(?:[\\s\\-\\.][ A-ZÀ-ÿ]+)*)\\s+([a-z].*|[A-ZÀ-ÿ][a-z].*|\\.\\.\\.|[^A-ZÀ-ÿ\\s].*)', line)\n",
    "        \n",
    "        if match:\n",
    "            character = match.group(1).strip()\n",
    "            dialogue = match.group(2).strip()\n",
    "            \n",
    "            # Clean up character name (remove extra spaces)\n",
    "            character = re.sub(r'\\s+', ' ', character)\n",
    "            \n",
    "            # Clean up dialogue (remove extra spaces)\n",
    "            dialogue = re.sub(r'\\s+', ' ', dialogue)\n",
    "            \n",
    "            # Only add if we have both character and dialogue\n",
    "            if character and dialogue:\n",
    "                characters.append(character)\n",
    "                dialogues.append(dialogue)\n",
    "    \n",
    "    # Create DataFrame\n",
    "    df = pd.DataFrame({\n",
    "        'character': characters,\n",
    "        'dialogue': dialogues\n",
    "    })\n",
    "    \n",
    "    return df\n",
    "\n",
    "def filter_character_dialogue(df, character_name):\n",
    "    \"\"\"\n",
    "    Filter the DataFrame to show only dialogue from a specific character.\n",
    "    \"\"\"\n",
    "    return df[df['character'].str.contains(character_name, case=False, na=False)]\n",
    "\n",
    "# Example usage:\n",
    "if __name__ == \"__main__\":\n",
    "    # Parse the dialogue file\n",
    "    df = parse_dialogue_file(r'C:\\Users\\varun\\Box Sync\\Python\\Python Projects\\Yoda_Agent\\Official Yoda Prequel Dialouge\\Yoda_AOTC_Complete.txt')\n",
    "    \n",
    "    print(\"Full dialogue DataFrame:\")\n",
    "    print(df)\n",
    "    print(f\"\\nTotal entries: {len(df)}\")\n",
    "    print(f\"Unique characters: {df['character'].nunique()}\")\n",
    "    print(f\"Characters: {sorted(df['character'].unique())}\")\n",
    "    \n",
    "    # Filter for Yoda specifically\n",
    "    # yoda_df = filter_character_dialogue(df, 'YODA')\n",
    "    # print(\"\\nYoda's dialogue only:\")\n",
    "    # print(yoda_df)\n",
    "    \n",
    "    # Save to CSV\n",
    "    df.to_csv('AOTC_Dialogue_Complete.csv', index=False)\n",
    "    # yoda_df.to_csv('yoda_dialogue.csv', index=False)"
   ]
  },
  {
   "cell_type": "code",
   "execution_count": 6,
   "id": "a7f555d3",
   "metadata": {},
   "outputs": [
    {
     "data": {
      "application/vnd.microsoft.datawrangler.viewer.v0+json": {
       "columns": [
        {
         "name": "index",
         "rawType": "int64",
         "type": "integer"
        },
        {
         "name": "character",
         "rawType": "object",
         "type": "string"
        },
        {
         "name": "dialogue",
         "rawType": "object",
         "type": "string"
        }
       ],
       "ref": "1d8f1514-b836-40fc-9c77-c2037316ab7e",
       "rows": [
        [
         "0",
         "PALPATINE",
         "I don't know how much longer I can hold off the vote, my friends. More and more star systems are joining the separatists."
        ],
        [
         "1",
         "MACE WINDU",
         "If they do break away -"
        ],
        [
         "2",
         "PALPATINE",
         "No! I will not let that happen!"
        ],
        [
         "3",
         "MACE WINDU",
         "But if they do, you must realize there aren't enough Jedi to protect the Republic. We are keepers of the peace, not soldiers."
        ],
        [
         "4",
         "PALPATINE",
         "Master Yoda, do you think it will really come to war?"
        ]
       ],
       "shape": {
        "columns": 2,
        "rows": 5
       }
      },
      "text/html": [
       "<div>\n",
       "<style scoped>\n",
       "    .dataframe tbody tr th:only-of-type {\n",
       "        vertical-align: middle;\n",
       "    }\n",
       "\n",
       "    .dataframe tbody tr th {\n",
       "        vertical-align: top;\n",
       "    }\n",
       "\n",
       "    .dataframe thead th {\n",
       "        text-align: right;\n",
       "    }\n",
       "</style>\n",
       "<table border=\"1\" class=\"dataframe\">\n",
       "  <thead>\n",
       "    <tr style=\"text-align: right;\">\n",
       "      <th></th>\n",
       "      <th>character</th>\n",
       "      <th>dialogue</th>\n",
       "    </tr>\n",
       "  </thead>\n",
       "  <tbody>\n",
       "    <tr>\n",
       "      <th>0</th>\n",
       "      <td>PALPATINE</td>\n",
       "      <td>I don't know how much longer I can hold off th...</td>\n",
       "    </tr>\n",
       "    <tr>\n",
       "      <th>1</th>\n",
       "      <td>MACE WINDU</td>\n",
       "      <td>If they do break away -</td>\n",
       "    </tr>\n",
       "    <tr>\n",
       "      <th>2</th>\n",
       "      <td>PALPATINE</td>\n",
       "      <td>No! I will not let that happen!</td>\n",
       "    </tr>\n",
       "    <tr>\n",
       "      <th>3</th>\n",
       "      <td>MACE WINDU</td>\n",
       "      <td>But if they do, you must realize there aren't ...</td>\n",
       "    </tr>\n",
       "    <tr>\n",
       "      <th>4</th>\n",
       "      <td>PALPATINE</td>\n",
       "      <td>Master Yoda, do you think it will really come ...</td>\n",
       "    </tr>\n",
       "  </tbody>\n",
       "</table>\n",
       "</div>"
      ],
      "text/plain": [
       "    character                                           dialogue\n",
       "0   PALPATINE  I don't know how much longer I can hold off th...\n",
       "1  MACE WINDU                            If they do break away -\n",
       "2   PALPATINE                    No! I will not let that happen!\n",
       "3  MACE WINDU  But if they do, you must realize there aren't ...\n",
       "4   PALPATINE  Master Yoda, do you think it will really come ..."
      ]
     },
     "execution_count": 6,
     "metadata": {},
     "output_type": "execute_result"
    }
   ],
   "source": [
    "AOTC_df = pd.read_csv(\"AOTC_Dialogue_Complete.csv\")\n",
    "AOTC_df.head()"
   ]
  },
  {
   "cell_type": "code",
   "execution_count": 7,
   "id": "29c97677",
   "metadata": {},
   "outputs": [
    {
     "name": "stdout",
     "output_type": "stream",
     "text": [
      "Full dialogue DataFrame:\n",
      "     character                                           dialogue\n",
      "0         YODA  Premonitions . . . premonitions . . . Hmmmm . ...\n",
      "1       ANAKIN           They are of pain, suffering, death . . .\n",
      "2         YODA        Yourself you speak of, or someone you know?\n",
      "3       ANAKIN                                      Someone . . .\n",
      "4         YODA                                . . . close to you?\n",
      "..         ...                                                ...\n",
      "137       YODA  One who has returned from the netherworld of t...\n",
      "138    OBI-WAN        Qui-Gon? But, how could he accomplish this?\n",
      "139       YODA  The secret of the Ancient Order of the Whills,...\n",
      "140  OBI-WAN I                     will be able to talk with him?\n",
      "141       YODA  How to join the Force, he will train you. Your...\n",
      "\n",
      "[142 rows x 2 columns]\n",
      "\n",
      "Total entries: 142\n",
      "Unique characters: 22\n",
      "Characters: ['ANAKIN', 'ANAKIN A', 'ANAKIN I', 'BAIL ORGANA', 'BAIL ORGANA I', 'CHEWIE', 'CLONE COMMANDER GREE', 'DARTH', 'MACE WINDU', 'MACE WINDU I', 'MACE WINDU WINDU', 'MACE WINDU WINDU I', 'MAS AMEDDA', 'MEDICAL DROID', 'OBI-WAN', 'OBI-WAN I', 'QUI', 'QUI-GON', 'TARFFUL', 'YODA', 'YODA A', 'YODA I']\n"
     ]
    }
   ],
   "source": [
    "df = parse_dialogue_file(r'C:\\Users\\varun\\Box Sync\\Python\\Python Projects\\Yoda_Agent\\Official Yoda Prequel Dialouge\\Yoda_ROTS_Complete.txt')\n",
    "    \n",
    "print(\"Full dialogue DataFrame:\")\n",
    "print(df)\n",
    "print(f\"\\nTotal entries: {len(df)}\")\n",
    "print(f\"Unique characters: {df['character'].nunique()}\")\n",
    "print(f\"Characters: {sorted(df['character'].unique())}\")\n",
    "\n",
    "# Filter for Yoda specifically\n",
    "# yoda_df = filter_character_dialogue(df, 'YODA')\n",
    "# print(\"\\nYoda's dialogue only:\")\n",
    "# print(yoda_df)\n",
    "\n",
    "# Save to CSV\n",
    "df.to_csv('ROTS_Dialogue_Complete.csv', index=False)"
   ]
  }
 ],
 "metadata": {
  "kernelspec": {
   "display_name": "base",
   "language": "python",
   "name": "python3"
  },
  "language_info": {
   "codemirror_mode": {
    "name": "ipython",
    "version": 3
   },
   "file_extension": ".py",
   "mimetype": "text/x-python",
   "name": "python",
   "nbconvert_exporter": "python",
   "pygments_lexer": "ipython3",
   "version": "3.12.3"
  }
 },
 "nbformat": 4,
 "nbformat_minor": 5
}
