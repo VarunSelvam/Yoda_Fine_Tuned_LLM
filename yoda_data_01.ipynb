{
 "cells": [
  {
   "cell_type": "markdown",
   "id": "3f12f938",
   "metadata": {},
   "source": [
    "# Yoda Data Processing"
   ]
  },
  {
   "cell_type": "markdown",
   "id": "2927f239",
   "metadata": {},
   "source": [
    "## Import Libraries"
   ]
  },
  {
   "cell_type": "code",
   "execution_count": 78,
   "id": "c51a250c",
   "metadata": {},
   "outputs": [],
   "source": [
    "import pandas as pd\n",
    "import numpy as numpy\n",
    "import regex as re\n",
    "import json"
   ]
  },
  {
   "cell_type": "markdown",
   "id": "0f371d95",
   "metadata": {},
   "source": [
    "## Read in all the episodes\n",
    "\n",
    "Episode 4 will not be read, since Yoda does not appear in the film."
   ]
  },
  {
   "cell_type": "code",
   "execution_count": 66,
   "id": "37d59820",
   "metadata": {},
   "outputs": [],
   "source": [
    "ep_1 = pd.read_csv(\"Official Yoda Prequel Dialouge/TPM_Dialogue_Complete.csv\")\n",
    "ep_2 = pd.read_csv(\"Official Yoda Prequel Dialouge/AOTC_Dialogue_Complete.csv\")\n",
    "ep_3 = pd.read_csv(\"Official Yoda Prequel Dialouge/ROTS_Dialogue_Complete.csv\")\n",
    "\n",
    "ep_5 = pd.read_table('SW_EpisodeV.txt', header=None, names=['raw'])\n",
    "ep_6 = pd.read_table('SW_EpisodeVI.txt', header=None, names=['raw'])"
   ]
  },
  {
   "cell_type": "markdown",
   "id": "bf59635e",
   "metadata": {},
   "source": [
    "### Ep 1-3"
   ]
  },
  {
   "cell_type": "code",
   "execution_count": 67,
   "id": "0802f6bf",
   "metadata": {},
   "outputs": [
    {
     "name": "stdout",
     "output_type": "stream",
     "text": [
      "ep 1 lines: \n",
      "    character                                           dialogue\n",
      "0     QUI-GON  my only conclusion can be that it was a Sith L...\n",
      "1  MACE WINDU                                     A Sith Lord?!?\n",
      "2      KI-ADI  Impossible! The Sith have been extinct for a m...\n",
      "3        YODA  The very Republic is threatened, if involved t...\n",
      "4  MACE WINDU  I do not believe they could have returned with...\n",
      "ep 2 lines: \n",
      "    character                                           dialogue\n",
      "0   PALPATINE  I don't know how much longer I can hold off th...\n",
      "1  MACE WINDU                            If they do break away -\n",
      "2   PALPATINE                    No! I will not let that happen!\n",
      "3  MACE WINDU  But if they do, you must realize there aren't ...\n",
      "4   PALPATINE  Master Yoda, do you think it will really come ...\n",
      "ep 3 lines: \n",
      "  character                                           dialogue\n",
      "0      YODA  Premonitions . . . premonitions . . . Hmmmm . ...\n",
      "1    ANAKIN           They are of pain, suffering, death . . .\n",
      "2      YODA        Yourself you speak of, or someone you know?\n",
      "3    ANAKIN                                      Someone . . .\n",
      "4      YODA                                . . . close to you?\n"
     ]
    }
   ],
   "source": [
    "print(f'ep 1 lines: \\n{ep_1.head()}')\n",
    "print(f'ep 2 lines: \\n{ep_2.head()}')\n",
    "print(f'ep 3 lines: \\n{ep_3.head()}')"
   ]
  },
  {
   "cell_type": "markdown",
   "id": "48821bd7",
   "metadata": {},
   "source": [
    "### Ep 5-6"
   ]
  },
  {
   "cell_type": "code",
   "execution_count": 68,
   "id": "57bd2746",
   "metadata": {},
   "outputs": [],
   "source": [
    "# Function to extract character and dialogue\n",
    "# Updated function to handle hyphens/apostrophes in names\n",
    "def extract_character_dialogue(text):\n",
    "    match = re.match(r'(\\d+\\s+)?\\\"([A-Z0-9\\'\\- ]+)\\\"\\s+\\\"(.+)\\\"', str(text))\n",
    "    if match:\n",
    "        character = match.group(2).strip()\n",
    "        dialogue = match.group(3).strip()\n",
    "        return pd.Series([character, dialogue])\n",
    "    else:\n",
    "        return pd.Series([None, None])"
   ]
  },
  {
   "cell_type": "code",
   "execution_count": 69,
   "id": "bc020559",
   "metadata": {},
   "outputs": [
    {
     "name": "stdout",
     "output_type": "stream",
     "text": [
      "length of ep_5: 840\n",
      "length of ep_5_clean: 839\n",
      "  character                                           dialogue\n",
      "0      LUKE  Echo Three to Echo Seven. Han, old buddy, do y...\n",
      "1       HAN                    Loud and clear, kid. What's up?\n",
      "2      LUKE  Well, I finished my circle. I don't pick up an...\n",
      "3       HAN  There isn't enough life on this ice cube to fi...\n",
      "4      LUKE  Right. I'll see you shortly. There's a meteori...\n",
      "length of ep_6: 675\n",
      "length of ep_6_clean: 666\n"
     ]
    }
   ],
   "source": [
    "# Apply the function\n",
    "ep_5[['character', 'dialogue']] = ep_5['raw'].apply(extract_character_dialogue)\n",
    "print(f'length of ep_5: {len(ep_5)}')\n",
    "\n",
    "# Drop any rows that didn’t match the regex pattern\n",
    "ep_5_clean = ep_5.dropna(subset=['character', 'dialogue']).reset_index(drop=True)\n",
    "print(f'length of ep_5_clean: {len(ep_5_clean)}')\n",
    "print(ep_5_clean[['character', 'dialogue']].head())\n",
    "\n",
    "# Apply the function\n",
    "ep_6[['character', 'dialogue']] = ep_6['raw'].apply(extract_character_dialogue)\n",
    "print(f'length of ep_6: {len(ep_6)}')\n",
    "\n",
    "# Drop any rows that didn’t match the regex pattern\n",
    "ep_6_clean = ep_6.dropna(subset=['character', 'dialogue']).reset_index(drop=True)\n",
    "print(f'length of ep_6_clean: {len(ep_6_clean)}')"
   ]
  },
  {
   "cell_type": "code",
   "execution_count": 70,
   "id": "c781f883",
   "metadata": {},
   "outputs": [],
   "source": [
    "def extract_context_yoda(df, speaker_col=\"character\", line_col=\"dialogue\"):\n",
    "    \"\"\"\n",
    "    Extracts pairs of (previous_speaker_line, Yoda_line).\n",
    "    \n",
    "    Args:\n",
    "        df: Pandas DataFrame with columns [speaker_col, line_col]\n",
    "        speaker_col: Column containing the speaker name (default = \"character\")\n",
    "        line_col: Column containing the dialogue (default = \"dialogue\")\n",
    "        \n",
    "    Returns:\n",
    "        DataFrame with columns [\"context\", \"yoda\"]\n",
    "    \"\"\"\n",
    "    context = []\n",
    "    yoda_lines = []\n",
    "\n",
    "    for i in range(1, len(df)):\n",
    "        if df.loc[i, speaker_col].upper() == \"YODA\":\n",
    "            prev_speaker = df.loc[i-1, speaker_col]\n",
    "            prev_line = df.loc[i-1, line_col]\n",
    "            yoda_line = df.loc[i, line_col]\n",
    "            \n",
    "            # Skip if the previous line was also Yoda\n",
    "            if prev_speaker.upper() != \"YODA\":\n",
    "                context.append(f\"{prev_speaker}: {prev_line}\")\n",
    "                yoda_lines.append(f\"Yoda: {yoda_line}\")\n",
    "\n",
    "    return pd.DataFrame({\"context\": context, \"yoda\": yoda_lines})"
   ]
  },
  {
   "cell_type": "markdown",
   "id": "59430834",
   "metadata": {},
   "source": [
    "## Yoda Conversations"
   ]
  },
  {
   "cell_type": "code",
   "execution_count": 71,
   "id": "62ea2496",
   "metadata": {},
   "outputs": [
    {
     "data": {
      "application/vnd.microsoft.datawrangler.viewer.v0+json": {
       "columns": [
        {
         "name": "index",
         "rawType": "int64",
         "type": "integer"
        },
        {
         "name": "context",
         "rawType": "object",
         "type": "string"
        },
        {
         "name": "yoda",
         "rawType": "object",
         "type": "string"
        }
       ],
       "ref": "d53b6c99-74dc-4537-ad88-432b461a9e15",
       "rows": [
        [
         "0",
         "KI-ADI: Impossible! The Sith have been extinct for a millennium.",
         "Yoda: The very Republic is threatened, if involved the Sith are."
        ],
        [
         "1",
         "MACE WINDU: I do not believe they could have returned without us knowing.",
         "Yoda: Hard to see, the dark side is. Discover who this assassin is, we must."
        ],
        [
         "2",
         "MACE WINDU: This attack was with purpose, that is clear, and I agree the Queen is the target.",
         "Yoda: With this Naboo queen you must stay, Qui-Gon. Protect her."
        ],
        [
         "3",
         "MACE WINDU: We will use all our resources here to unravel this mystery and discover the identity of your attacker. May the Force be with you.",
         "Yoda: May the Force be with you. Master Qui-Gon more to say have you?"
        ],
        [
         "4",
         "QUI-GON: I don't presume",
         "Yoda: But you do! Revealed your opinion is."
        ]
       ],
       "shape": {
        "columns": 2,
        "rows": 5
       }
      },
      "text/html": [
       "<div>\n",
       "<style scoped>\n",
       "    .dataframe tbody tr th:only-of-type {\n",
       "        vertical-align: middle;\n",
       "    }\n",
       "\n",
       "    .dataframe tbody tr th {\n",
       "        vertical-align: top;\n",
       "    }\n",
       "\n",
       "    .dataframe thead th {\n",
       "        text-align: right;\n",
       "    }\n",
       "</style>\n",
       "<table border=\"1\" class=\"dataframe\">\n",
       "  <thead>\n",
       "    <tr style=\"text-align: right;\">\n",
       "      <th></th>\n",
       "      <th>context</th>\n",
       "      <th>yoda</th>\n",
       "    </tr>\n",
       "  </thead>\n",
       "  <tbody>\n",
       "    <tr>\n",
       "      <th>0</th>\n",
       "      <td>KI-ADI: Impossible! The Sith have been extinct...</td>\n",
       "      <td>Yoda: The very Republic is threatened, if invo...</td>\n",
       "    </tr>\n",
       "    <tr>\n",
       "      <th>1</th>\n",
       "      <td>MACE WINDU: I do not believe they could have r...</td>\n",
       "      <td>Yoda: Hard to see, the dark side is. Discover ...</td>\n",
       "    </tr>\n",
       "    <tr>\n",
       "      <th>2</th>\n",
       "      <td>MACE WINDU: This attack was with purpose, that...</td>\n",
       "      <td>Yoda: With this Naboo queen you must stay, Qui...</td>\n",
       "    </tr>\n",
       "    <tr>\n",
       "      <th>3</th>\n",
       "      <td>MACE WINDU: We will use all our resources here...</td>\n",
       "      <td>Yoda: May the Force be with you. Master Qui-Go...</td>\n",
       "    </tr>\n",
       "    <tr>\n",
       "      <th>4</th>\n",
       "      <td>QUI-GON: I don't presume</td>\n",
       "      <td>Yoda: But you do! Revealed your opinion is.</td>\n",
       "    </tr>\n",
       "  </tbody>\n",
       "</table>\n",
       "</div>"
      ],
      "text/plain": [
       "                                             context  \\\n",
       "0  KI-ADI: Impossible! The Sith have been extinct...   \n",
       "1  MACE WINDU: I do not believe they could have r...   \n",
       "2  MACE WINDU: This attack was with purpose, that...   \n",
       "3  MACE WINDU: We will use all our resources here...   \n",
       "4                           QUI-GON: I don't presume   \n",
       "\n",
       "                                                yoda  \n",
       "0  Yoda: The very Republic is threatened, if invo...  \n",
       "1  Yoda: Hard to see, the dark side is. Discover ...  \n",
       "2  Yoda: With this Naboo queen you must stay, Qui...  \n",
       "3  Yoda: May the Force be with you. Master Qui-Go...  \n",
       "4        Yoda: But you do! Revealed your opinion is.  "
      ]
     },
     "execution_count": 71,
     "metadata": {},
     "output_type": "execute_result"
    }
   ],
   "source": [
    "ep_1_yoda = extract_context_yoda(ep_1)\n",
    "ep_1_yoda.head()"
   ]
  },
  {
   "cell_type": "code",
   "execution_count": 72,
   "id": "4929058e",
   "metadata": {},
   "outputs": [
    {
     "data": {
      "application/vnd.microsoft.datawrangler.viewer.v0+json": {
       "columns": [
        {
         "name": "index",
         "rawType": "int64",
         "type": "integer"
        },
        {
         "name": "context",
         "rawType": "object",
         "type": "string"
        },
        {
         "name": "yoda",
         "rawType": "object",
         "type": "string"
        }
       ],
       "ref": "4bba9cb0-2896-4ab5-a5c9-b8dadab23bab",
       "rows": [
        [
         "0",
         "PALPATINE: Master Yoda, do you think it will really come to war?",
         "Yoda: Worse than war, I fear... Much worse."
        ],
        [
         "1",
         "MACE WINDU: What do you sense, Master?",
         "Yoda: Impossible to see...The Dark Side clouds everything. But this I am sure of -Do their duty the Jedi will."
        ],
        [
         "2",
         "PADME: It is nice to see you Master Yoda.",
         "Yoda: With you, the Force is strong...young Senator. To see you alive brings warm feelings to my heart."
        ],
        [
         "3",
         "PADME : I don't know, but everything in my being tells me he was behind it.",
         "Yoda: In dark times nothing is what it appears to be, but the fact remains Senator, in grave danger you are."
        ],
        [
         "4",
         "MACE WINDU : I will have Obi-Wan report to you immediately, M'Lady.",
         "Yoda: Too little about yourself you worry, Senator, and too much about politics. Be mindful of your danger, Padme. Accept our help."
        ]
       ],
       "shape": {
        "columns": 2,
        "rows": 5
       }
      },
      "text/html": [
       "<div>\n",
       "<style scoped>\n",
       "    .dataframe tbody tr th:only-of-type {\n",
       "        vertical-align: middle;\n",
       "    }\n",
       "\n",
       "    .dataframe tbody tr th {\n",
       "        vertical-align: top;\n",
       "    }\n",
       "\n",
       "    .dataframe thead th {\n",
       "        text-align: right;\n",
       "    }\n",
       "</style>\n",
       "<table border=\"1\" class=\"dataframe\">\n",
       "  <thead>\n",
       "    <tr style=\"text-align: right;\">\n",
       "      <th></th>\n",
       "      <th>context</th>\n",
       "      <th>yoda</th>\n",
       "    </tr>\n",
       "  </thead>\n",
       "  <tbody>\n",
       "    <tr>\n",
       "      <th>0</th>\n",
       "      <td>PALPATINE: Master Yoda, do you think it will r...</td>\n",
       "      <td>Yoda: Worse than war, I fear... Much worse.</td>\n",
       "    </tr>\n",
       "    <tr>\n",
       "      <th>1</th>\n",
       "      <td>MACE WINDU: What do you sense, Master?</td>\n",
       "      <td>Yoda: Impossible to see...The Dark Side clouds...</td>\n",
       "    </tr>\n",
       "    <tr>\n",
       "      <th>2</th>\n",
       "      <td>PADME: It is nice to see you Master Yoda.</td>\n",
       "      <td>Yoda: With you, the Force is strong...young Se...</td>\n",
       "    </tr>\n",
       "    <tr>\n",
       "      <th>3</th>\n",
       "      <td>PADME : I don't know, but everything in my bei...</td>\n",
       "      <td>Yoda: In dark times nothing is what it appears...</td>\n",
       "    </tr>\n",
       "    <tr>\n",
       "      <th>4</th>\n",
       "      <td>MACE WINDU : I will have Obi-Wan report to you...</td>\n",
       "      <td>Yoda: Too little about yourself you worry, Sen...</td>\n",
       "    </tr>\n",
       "  </tbody>\n",
       "</table>\n",
       "</div>"
      ],
      "text/plain": [
       "                                             context  \\\n",
       "0  PALPATINE: Master Yoda, do you think it will r...   \n",
       "1             MACE WINDU: What do you sense, Master?   \n",
       "2          PADME: It is nice to see you Master Yoda.   \n",
       "3  PADME : I don't know, but everything in my bei...   \n",
       "4  MACE WINDU : I will have Obi-Wan report to you...   \n",
       "\n",
       "                                                yoda  \n",
       "0        Yoda: Worse than war, I fear... Much worse.  \n",
       "1  Yoda: Impossible to see...The Dark Side clouds...  \n",
       "2  Yoda: With you, the Force is strong...young Se...  \n",
       "3  Yoda: In dark times nothing is what it appears...  \n",
       "4  Yoda: Too little about yourself you worry, Sen...  "
      ]
     },
     "execution_count": 72,
     "metadata": {},
     "output_type": "execute_result"
    }
   ],
   "source": [
    "ep_2_yoda = extract_context_yoda(ep_2)\n",
    "ep_2_yoda.head()"
   ]
  },
  {
   "cell_type": "code",
   "execution_count": 73,
   "id": "f2bd122d",
   "metadata": {},
   "outputs": [
    {
     "data": {
      "application/vnd.microsoft.datawrangler.viewer.v0+json": {
       "columns": [
        {
         "name": "index",
         "rawType": "int64",
         "type": "integer"
        },
        {
         "name": "context",
         "rawType": "object",
         "type": "string"
        },
        {
         "name": "yoda",
         "rawType": "object",
         "type": "string"
        }
       ],
       "ref": "2e739dc5-8eb0-4045-a3dd-54060ee37415",
       "rows": [
        [
         "0",
         "ANAKIN: They are of pain, suffering, death . . .",
         "Yoda: Yourself you speak of, or someone you know?"
        ],
        [
         "1",
         "ANAKIN: Someone . . .",
         "Yoda: . . . close to you?"
        ],
        [
         "2",
         "ANAKIN: Yes.",
         "Yoda: Careful you must be when sensing the future, Anakin. The fear of loss is a path to the dark side."
        ],
        [
         "3",
         "ANAKIN : I won't let these visions come true, Master Yoda.",
         "Yoda: Death is a natural part of life. Rejoice for those around you who transform into the Force. Mourn them, do not. Miss them, do not. Attachment leads to jealousy. The shadow of greed, that is."
        ],
        [
         "4",
         "ANAKIN: What must I do, Master Yoda?",
         "Yoda: Train yourself to let go of everything you fear to lose."
        ]
       ],
       "shape": {
        "columns": 2,
        "rows": 5
       }
      },
      "text/html": [
       "<div>\n",
       "<style scoped>\n",
       "    .dataframe tbody tr th:only-of-type {\n",
       "        vertical-align: middle;\n",
       "    }\n",
       "\n",
       "    .dataframe tbody tr th {\n",
       "        vertical-align: top;\n",
       "    }\n",
       "\n",
       "    .dataframe thead th {\n",
       "        text-align: right;\n",
       "    }\n",
       "</style>\n",
       "<table border=\"1\" class=\"dataframe\">\n",
       "  <thead>\n",
       "    <tr style=\"text-align: right;\">\n",
       "      <th></th>\n",
       "      <th>context</th>\n",
       "      <th>yoda</th>\n",
       "    </tr>\n",
       "  </thead>\n",
       "  <tbody>\n",
       "    <tr>\n",
       "      <th>0</th>\n",
       "      <td>ANAKIN: They are of pain, suffering, death . . .</td>\n",
       "      <td>Yoda: Yourself you speak of, or someone you know?</td>\n",
       "    </tr>\n",
       "    <tr>\n",
       "      <th>1</th>\n",
       "      <td>ANAKIN: Someone . . .</td>\n",
       "      <td>Yoda: . . . close to you?</td>\n",
       "    </tr>\n",
       "    <tr>\n",
       "      <th>2</th>\n",
       "      <td>ANAKIN: Yes.</td>\n",
       "      <td>Yoda: Careful you must be when sensing the fut...</td>\n",
       "    </tr>\n",
       "    <tr>\n",
       "      <th>3</th>\n",
       "      <td>ANAKIN : I won't let these visions come true, ...</td>\n",
       "      <td>Yoda: Death is a natural part of life. Rejoice...</td>\n",
       "    </tr>\n",
       "    <tr>\n",
       "      <th>4</th>\n",
       "      <td>ANAKIN: What must I do, Master Yoda?</td>\n",
       "      <td>Yoda: Train yourself to let go of everything y...</td>\n",
       "    </tr>\n",
       "  </tbody>\n",
       "</table>\n",
       "</div>"
      ],
      "text/plain": [
       "                                             context  \\\n",
       "0   ANAKIN: They are of pain, suffering, death . . .   \n",
       "1                              ANAKIN: Someone . . .   \n",
       "2                                       ANAKIN: Yes.   \n",
       "3  ANAKIN : I won't let these visions come true, ...   \n",
       "4               ANAKIN: What must I do, Master Yoda?   \n",
       "\n",
       "                                                yoda  \n",
       "0  Yoda: Yourself you speak of, or someone you know?  \n",
       "1                          Yoda: . . . close to you?  \n",
       "2  Yoda: Careful you must be when sensing the fut...  \n",
       "3  Yoda: Death is a natural part of life. Rejoice...  \n",
       "4  Yoda: Train yourself to let go of everything y...  "
      ]
     },
     "execution_count": 73,
     "metadata": {},
     "output_type": "execute_result"
    }
   ],
   "source": [
    "ep_3_yoda = extract_context_yoda(ep_3)\n",
    "ep_3_yoda.head()"
   ]
  },
  {
   "cell_type": "code",
   "execution_count": 74,
   "id": "86f12ace",
   "metadata": {},
   "outputs": [
    {
     "data": {
      "application/vnd.microsoft.datawrangler.viewer.v0+json": {
       "columns": [
        {
         "name": "index",
         "rawType": "int64",
         "type": "integer"
        },
        {
         "name": "context",
         "rawType": "object",
         "type": "string"
        },
        {
         "name": "yoda",
         "rawType": "object",
         "type": "string"
        }
       ],
       "ref": "97086d24-c621-4af4-815f-64b92a13e7e6",
       "rows": [
        [
         "0",
         "BEN: He will learn patience.",
         "Yoda: Hmmm. Much anger in him, like his father."
        ],
        [
         "1",
         "BEN: Was I any different when you taught me?",
         "Yoda: Hah. He is not ready."
        ],
        [
         "2",
         "LUKE: Yoda! I am ready. I...Ben! I can be a Jedi. Ben, tell him I'm  ready.",
         "Yoda: Ready, are you? What know you of ready? For eight hundred years  have I trained Jedi. My own counsel will I keep on who is to be trained! A Jedi must have the deepest commitment, the most serious mind.  This one a long time have I watched. Never his mind on where he was. Hmm? What he was doing. Hmph. Adventure. Heh! Excitement. Heh! A Jedi craves not these things.  You are reckless!"
        ],
        [
         "3",
         "BEN: So was I, if you'll remember.",
         "Yoda: He is too old. Yes, too old to begin the training."
        ],
        [
         "4",
         "LUKE: But I've learned so much.",
         "Yoda: Will he finished what he begins?"
        ]
       ],
       "shape": {
        "columns": 2,
        "rows": 5
       }
      },
      "text/html": [
       "<div>\n",
       "<style scoped>\n",
       "    .dataframe tbody tr th:only-of-type {\n",
       "        vertical-align: middle;\n",
       "    }\n",
       "\n",
       "    .dataframe tbody tr th {\n",
       "        vertical-align: top;\n",
       "    }\n",
       "\n",
       "    .dataframe thead th {\n",
       "        text-align: right;\n",
       "    }\n",
       "</style>\n",
       "<table border=\"1\" class=\"dataframe\">\n",
       "  <thead>\n",
       "    <tr style=\"text-align: right;\">\n",
       "      <th></th>\n",
       "      <th>context</th>\n",
       "      <th>yoda</th>\n",
       "    </tr>\n",
       "  </thead>\n",
       "  <tbody>\n",
       "    <tr>\n",
       "      <th>0</th>\n",
       "      <td>BEN: He will learn patience.</td>\n",
       "      <td>Yoda: Hmmm. Much anger in him, like his father.</td>\n",
       "    </tr>\n",
       "    <tr>\n",
       "      <th>1</th>\n",
       "      <td>BEN: Was I any different when you taught me?</td>\n",
       "      <td>Yoda: Hah. He is not ready.</td>\n",
       "    </tr>\n",
       "    <tr>\n",
       "      <th>2</th>\n",
       "      <td>LUKE: Yoda! I am ready. I...Ben! I can be a Je...</td>\n",
       "      <td>Yoda: Ready, are you? What know you of ready? ...</td>\n",
       "    </tr>\n",
       "    <tr>\n",
       "      <th>3</th>\n",
       "      <td>BEN: So was I, if you'll remember.</td>\n",
       "      <td>Yoda: He is too old. Yes, too old to begin the...</td>\n",
       "    </tr>\n",
       "    <tr>\n",
       "      <th>4</th>\n",
       "      <td>LUKE: But I've learned so much.</td>\n",
       "      <td>Yoda: Will he finished what he begins?</td>\n",
       "    </tr>\n",
       "  </tbody>\n",
       "</table>\n",
       "</div>"
      ],
      "text/plain": [
       "                                             context  \\\n",
       "0                       BEN: He will learn patience.   \n",
       "1       BEN: Was I any different when you taught me?   \n",
       "2  LUKE: Yoda! I am ready. I...Ben! I can be a Je...   \n",
       "3                 BEN: So was I, if you'll remember.   \n",
       "4                    LUKE: But I've learned so much.   \n",
       "\n",
       "                                                yoda  \n",
       "0    Yoda: Hmmm. Much anger in him, like his father.  \n",
       "1                        Yoda: Hah. He is not ready.  \n",
       "2  Yoda: Ready, are you? What know you of ready? ...  \n",
       "3  Yoda: He is too old. Yes, too old to begin the...  \n",
       "4             Yoda: Will he finished what he begins?  "
      ]
     },
     "execution_count": 74,
     "metadata": {},
     "output_type": "execute_result"
    }
   ],
   "source": [
    "ep_5_yoda = extract_context_yoda(ep_5)\n",
    "ep_5_yoda.head()"
   ]
  },
  {
   "cell_type": "markdown",
   "id": "0c4c5188",
   "metadata": {},
   "source": [
    "The first row is incorrect, Palpatine is referring to the Death Star and his plans for the Rebellion while Yoda is asking why Luke is making that face towards him."
   ]
  },
  {
   "cell_type": "code",
   "execution_count": 75,
   "id": "ab7d6939",
   "metadata": {},
   "outputs": [
    {
     "data": {
      "application/vnd.microsoft.datawrangler.viewer.v0+json": {
       "columns": [
        {
         "name": "index",
         "rawType": "int64",
         "type": "integer"
        },
        {
         "name": "context",
         "rawType": "object",
         "type": "string"
        },
        {
         "name": "yoda",
         "rawType": "object",
         "type": "string"
        }
       ],
       "ref": "873620b5-f7dc-41ef-9a36-f20b08282ff4",
       "rows": [
        [
         "0",
         "EMPEROR: Everything is proceeding as I have foreseen.",
         "Yoda: Hmm. That face you make. Look I so old to young eyes?"
        ],
        [
         "1",
         "LUKE: No... of course not.",
         "Yoda: I do, yes, I do!  Sick have I become. Old and weak.  When nine hundred years old you reach, look as good you will not. Hmm?"
        ],
        [
         "2",
         "LUKE: Master Yoda, you can't die.",
         "Yoda: Strong am I with the Force... but not that strong! Twilight is upon me and soon night must fall. That is the way of things ... the way of the Force."
        ],
        [
         "3",
         "LUKE: But I need your help. I've come back to complete the training.",
         "Yoda: No more training do you require. Already know you that which you need."
        ],
        [
         "4",
         "LUKE: Then I am a Jedi?",
         "Yoda: Ohhh. Not yet. One thing remains: Vader. You must confront Vader. Then, only then, a Jedi will you be. And confront him you will."
        ]
       ],
       "shape": {
        "columns": 2,
        "rows": 5
       }
      },
      "text/html": [
       "<div>\n",
       "<style scoped>\n",
       "    .dataframe tbody tr th:only-of-type {\n",
       "        vertical-align: middle;\n",
       "    }\n",
       "\n",
       "    .dataframe tbody tr th {\n",
       "        vertical-align: top;\n",
       "    }\n",
       "\n",
       "    .dataframe thead th {\n",
       "        text-align: right;\n",
       "    }\n",
       "</style>\n",
       "<table border=\"1\" class=\"dataframe\">\n",
       "  <thead>\n",
       "    <tr style=\"text-align: right;\">\n",
       "      <th></th>\n",
       "      <th>context</th>\n",
       "      <th>yoda</th>\n",
       "    </tr>\n",
       "  </thead>\n",
       "  <tbody>\n",
       "    <tr>\n",
       "      <th>0</th>\n",
       "      <td>EMPEROR: Everything is proceeding as I have fo...</td>\n",
       "      <td>Yoda: Hmm. That face you make. Look I so old t...</td>\n",
       "    </tr>\n",
       "    <tr>\n",
       "      <th>1</th>\n",
       "      <td>LUKE: No... of course not.</td>\n",
       "      <td>Yoda: I do, yes, I do!  Sick have I become. Ol...</td>\n",
       "    </tr>\n",
       "    <tr>\n",
       "      <th>2</th>\n",
       "      <td>LUKE: Master Yoda, you can't die.</td>\n",
       "      <td>Yoda: Strong am I with the Force... but not th...</td>\n",
       "    </tr>\n",
       "    <tr>\n",
       "      <th>3</th>\n",
       "      <td>LUKE: But I need your help. I've come back to ...</td>\n",
       "      <td>Yoda: No more training do you require. Already...</td>\n",
       "    </tr>\n",
       "    <tr>\n",
       "      <th>4</th>\n",
       "      <td>LUKE: Then I am a Jedi?</td>\n",
       "      <td>Yoda: Ohhh. Not yet. One thing remains: Vader....</td>\n",
       "    </tr>\n",
       "  </tbody>\n",
       "</table>\n",
       "</div>"
      ],
      "text/plain": [
       "                                             context  \\\n",
       "0  EMPEROR: Everything is proceeding as I have fo...   \n",
       "1                         LUKE: No... of course not.   \n",
       "2                  LUKE: Master Yoda, you can't die.   \n",
       "3  LUKE: But I need your help. I've come back to ...   \n",
       "4                            LUKE: Then I am a Jedi?   \n",
       "\n",
       "                                                yoda  \n",
       "0  Yoda: Hmm. That face you make. Look I so old t...  \n",
       "1  Yoda: I do, yes, I do!  Sick have I become. Ol...  \n",
       "2  Yoda: Strong am I with the Force... but not th...  \n",
       "3  Yoda: No more training do you require. Already...  \n",
       "4  Yoda: Ohhh. Not yet. One thing remains: Vader....  "
      ]
     },
     "execution_count": 75,
     "metadata": {},
     "output_type": "execute_result"
    }
   ],
   "source": [
    "ep_6_yoda = extract_context_yoda(ep_6_clean)\n",
    "ep_6_yoda.head()"
   ]
  },
  {
   "cell_type": "code",
   "execution_count": 76,
   "id": "b316251c",
   "metadata": {},
   "outputs": [],
   "source": [
    "ep_6_yoda = extract_context_yoda(ep_6_clean)\n",
    "ep_6_yoda.loc[0, \"context\"] = \"Luke Skywalker: Why do you look like that Master Yoda?\""
   ]
  },
  {
   "cell_type": "code",
   "execution_count": 77,
   "id": "41c61818",
   "metadata": {},
   "outputs": [
    {
     "data": {
      "application/vnd.microsoft.datawrangler.viewer.v0+json": {
       "columns": [
        {
         "name": "index",
         "rawType": "int64",
         "type": "integer"
        },
        {
         "name": "context",
         "rawType": "object",
         "type": "string"
        },
        {
         "name": "yoda",
         "rawType": "object",
         "type": "string"
        }
       ],
       "ref": "79f4e663-6bac-4dd3-b0d1-a96db167a240",
       "rows": [
        [
         "0",
         "Luke Skywalker: Why do you look like that Master Yoda?",
         "Yoda: Hmm. That face you make. Look I so old to young eyes?"
        ],
        [
         "1",
         "LUKE: No... of course not.",
         "Yoda: I do, yes, I do!  Sick have I become. Old and weak.  When nine hundred years old you reach, look as good you will not. Hmm?"
        ],
        [
         "2",
         "LUKE: Master Yoda, you can't die.",
         "Yoda: Strong am I with the Force... but not that strong! Twilight is upon me and soon night must fall. That is the way of things ... the way of the Force."
        ],
        [
         "3",
         "LUKE: But I need your help. I've come back to complete the training.",
         "Yoda: No more training do you require. Already know you that which you need."
        ],
        [
         "4",
         "LUKE: Then I am a Jedi?",
         "Yoda: Ohhh. Not yet. One thing remains: Vader. You must confront Vader. Then, only then, a Jedi will you be. And confront him you will."
        ]
       ],
       "shape": {
        "columns": 2,
        "rows": 5
       }
      },
      "text/html": [
       "<div>\n",
       "<style scoped>\n",
       "    .dataframe tbody tr th:only-of-type {\n",
       "        vertical-align: middle;\n",
       "    }\n",
       "\n",
       "    .dataframe tbody tr th {\n",
       "        vertical-align: top;\n",
       "    }\n",
       "\n",
       "    .dataframe thead th {\n",
       "        text-align: right;\n",
       "    }\n",
       "</style>\n",
       "<table border=\"1\" class=\"dataframe\">\n",
       "  <thead>\n",
       "    <tr style=\"text-align: right;\">\n",
       "      <th></th>\n",
       "      <th>context</th>\n",
       "      <th>yoda</th>\n",
       "    </tr>\n",
       "  </thead>\n",
       "  <tbody>\n",
       "    <tr>\n",
       "      <th>0</th>\n",
       "      <td>Luke Skywalker: Why do you look like that Mast...</td>\n",
       "      <td>Yoda: Hmm. That face you make. Look I so old t...</td>\n",
       "    </tr>\n",
       "    <tr>\n",
       "      <th>1</th>\n",
       "      <td>LUKE: No... of course not.</td>\n",
       "      <td>Yoda: I do, yes, I do!  Sick have I become. Ol...</td>\n",
       "    </tr>\n",
       "    <tr>\n",
       "      <th>2</th>\n",
       "      <td>LUKE: Master Yoda, you can't die.</td>\n",
       "      <td>Yoda: Strong am I with the Force... but not th...</td>\n",
       "    </tr>\n",
       "    <tr>\n",
       "      <th>3</th>\n",
       "      <td>LUKE: But I need your help. I've come back to ...</td>\n",
       "      <td>Yoda: No more training do you require. Already...</td>\n",
       "    </tr>\n",
       "    <tr>\n",
       "      <th>4</th>\n",
       "      <td>LUKE: Then I am a Jedi?</td>\n",
       "      <td>Yoda: Ohhh. Not yet. One thing remains: Vader....</td>\n",
       "    </tr>\n",
       "  </tbody>\n",
       "</table>\n",
       "</div>"
      ],
      "text/plain": [
       "                                             context  \\\n",
       "0  Luke Skywalker: Why do you look like that Mast...   \n",
       "1                         LUKE: No... of course not.   \n",
       "2                  LUKE: Master Yoda, you can't die.   \n",
       "3  LUKE: But I need your help. I've come back to ...   \n",
       "4                            LUKE: Then I am a Jedi?   \n",
       "\n",
       "                                                yoda  \n",
       "0  Yoda: Hmm. That face you make. Look I so old t...  \n",
       "1  Yoda: I do, yes, I do!  Sick have I become. Ol...  \n",
       "2  Yoda: Strong am I with the Force... but not th...  \n",
       "3  Yoda: No more training do you require. Already...  \n",
       "4  Yoda: Ohhh. Not yet. One thing remains: Vader....  "
      ]
     },
     "execution_count": 77,
     "metadata": {},
     "output_type": "execute_result"
    }
   ],
   "source": [
    "ep_6_yoda.head()"
   ]
  },
  {
   "cell_type": "markdown",
   "id": "f53f1f5b",
   "metadata": {},
   "source": [
    "## Converting into Chat Template Form"
   ]
  },
  {
   "cell_type": "markdown",
   "id": "944cc96e",
   "metadata": {},
   "source": [
    "We'll first combine all the episodes into one dataframe. Then we'll run the `convert_to_chat_format` function to convert this entire dataset into an acceptable chat format."
   ]
  },
  {
   "cell_type": "code",
   "execution_count": 83,
   "id": "9ae1dfdd",
   "metadata": {},
   "outputs": [],
   "source": [
    "yoda_all = pd.concat([ep_1_yoda, ep_2_yoda, ep_3_yoda, ep_5_yoda, ep_6_yoda], ignore_index=True)\n",
    "yoda_all.to_csv(\"yoda_all.csv\", index=False)\n"
   ]
  },
  {
   "cell_type": "code",
   "execution_count": 79,
   "id": "54de9d92",
   "metadata": {},
   "outputs": [],
   "source": [
    "def convert_to_chat_format(df, output_file=\"yoda_chat.jsonl\"):\n",
    "    with open(output_file, \"w\", encoding=\"utf-8\") as f:\n",
    "        for _, row in df.iterrows():\n",
    "            user_line = row['context']\n",
    "            yoda_line = row['yoda']\n",
    "\n",
    "            # strip speaker names if present\n",
    "            if \":\" in user_line:\n",
    "                user_line = user_line.split(\":\", 1)[1].strip()\n",
    "            if \":\" in yoda_line:\n",
    "                yoda_line = yoda_line.split(\":\", 1)[1].strip()\n",
    "\n",
    "            example = {\n",
    "                \"messages\": [\n",
    "                    {\"role\": \"user\", \"content\": user_line},\n",
    "                    {\"role\": \"assistant\", \"content\": yoda_line}\n",
    "                ]\n",
    "            }\n",
    "            f.write(json.dumps(example, ensure_ascii=False) + \"\\n\")"
   ]
  },
  {
   "cell_type": "code",
   "execution_count": 84,
   "id": "d291f7e4",
   "metadata": {},
   "outputs": [],
   "source": [
    "convert_to_chat_format(yoda_all)"
   ]
  },
  {
   "cell_type": "code",
   "execution_count": 85,
   "id": "ec38aa72",
   "metadata": {},
   "outputs": [
    {
     "name": "stdout",
     "output_type": "stream",
     "text": [
      "Converted dataset saved to yoda_chat_system.jsonl\n"
     ]
    }
   ],
   "source": [
    "input_file = \"yoda_chat.jsonl\"\n",
    "output_file = \"yoda_chat_system.jsonl\"\n",
    "\n",
    "system_message = {\n",
    "    \"role\": \"system\",\n",
    "    \"content\": \"You are Yoda. Always answer in Yoda's unique speech style.\"\n",
    "}\n",
    "\n",
    "with open(input_file, \"r\") as infile, open(output_file, \"w\") as outfile:\n",
    "    for line in infile:\n",
    "        convo = json.loads(line.strip())\n",
    "        # Prepend system message\n",
    "        convo[\"messages\"].insert(0, system_message)\n",
    "        outfile.write(json.dumps(convo) + \"\\n\")\n",
    "\n",
    "print(f\"Converted dataset saved to {output_file}\")"
   ]
  }
 ],
 "metadata": {
  "kernelspec": {
   "display_name": "base",
   "language": "python",
   "name": "python3"
  },
  "language_info": {
   "codemirror_mode": {
    "name": "ipython",
    "version": 3
   },
   "file_extension": ".py",
   "mimetype": "text/x-python",
   "name": "python",
   "nbconvert_exporter": "python",
   "pygments_lexer": "ipython3",
   "version": "3.12.3"
  }
 },
 "nbformat": 4,
 "nbformat_minor": 5
}
